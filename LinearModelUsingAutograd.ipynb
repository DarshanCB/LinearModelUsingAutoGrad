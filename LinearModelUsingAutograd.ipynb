{
 "cells": [
  {
   "cell_type": "code",
   "execution_count": 54,
   "metadata": {},
   "outputs": [],
   "source": [
    "import numpy as np\n",
    "import matplotlib.pyplot as plt"
   ]
  },
  {
   "cell_type": "code",
   "execution_count": 64,
   "metadata": {},
   "outputs": [],
   "source": [
    "x_train = np.array([[4.7],[2.4],[7.5],[7.1],[4.3],[7.816],\n",
    "                   [8.9],[5.2],[8.59],[2.1],[8],[10],[4.5],[6],[4]],\n",
    "                  dtype = np.float32)"
   ]
  },
  {
   "cell_type": "code",
   "execution_count": 65,
   "metadata": {},
   "outputs": [],
   "source": [
    "y_train = np.array([[2.6],[1.6],[3.09],[2.4],[2.4],[3.357],\n",
    "                   [2.6],[1.96],[3.53],[1.76],[3.2],[3.5],[1.6],[2.5],[2.2]],\n",
    "                  dtype = np.float32)"
   ]
  },
  {
   "cell_type": "code",
   "execution_count": 66,
   "metadata": {},
   "outputs": [
    {
     "data": {
      "image/png": "[encoded data removed]",
      "text/plain": [
       "<Figure size 864x576 with 1 Axes>"
      ]
     },
     "metadata": {
      "needs_background": "light"
     },
     "output_type": "display_data"
    }
   ],
   "source": [
    "plt.figure(figsize = (12,8))\n",
    "\n",
    "plt.scatter(x_train, y_train, label='Original data', s=250, c='g')\n",
    "plt.legend()\n",
    "plt.show()"
   ]
  },
  {
   "cell_type": "code",
   "execution_count": 69,
   "metadata": {},
   "outputs": [
    {
     "name": "stdout",
     "output_type": "stream",
     "text": [
      "False\n",
      "False\n"
     ]
    }
   ],
   "source": [
    "import torch\n",
    "\n",
    "#convert the input to tensors\n",
    "X_train = torch.from_numpy(x_train)\n",
    "Y_train = torch.from_numpy(y_train)\n",
    "\n",
    "print(X_train.requires_grad)\n",
    "print(Y_train.requires_grad)"
   ]
  },
  {
   "cell_type": "code",
   "execution_count": 70,
   "metadata": {},
   "outputs": [],
   "source": [
    "input_size =1 \n",
    "hidden_size =1\n",
    "output_size =1"
   ]
  },
  {
   "cell_type": "code",
   "execution_count": 89,
   "metadata": {},
   "outputs": [
    {
     "data": {
      "text/plain": [
       "torch.Size([1, 1])"
      ]
     },
     "execution_count": 89,
     "metadata": {},
     "output_type": "execute_result"
    }
   ],
   "source": [
    "w1 = torch.rand(input_size,\n",
    "                hidden_size,\n",
    "                 requires_grad = True)\n",
    "\n",
    "w1.shape"
   ]
  },
  {
   "cell_type": "code",
   "execution_count": 90,
   "metadata": {},
   "outputs": [
    {
     "data": {
      "text/plain": [
       "torch.Size([1, 1])"
      ]
     },
     "execution_count": 90,
     "metadata": {},
     "output_type": "execute_result"
    }
   ],
   "source": [
    "w2 = torch.rand(hidden_size,\n",
    "                output_size,\n",
    "                 requires_grad = True)\n",
    "\n",
    "w2.shape"
   ]
  },
  {
   "cell_type": "code",
   "execution_count": 130,
   "metadata": {},
   "outputs": [],
   "source": [
    "#if the learning rate is more it indicates the step size is more in order to reach the minimum value or minization\n",
    "lr= 0.0001"
   ]
  },
  {
   "cell_type": "code",
   "execution_count": 131,
   "metadata": {},
   "outputs": [
    {
     "name": "stdout",
     "output_type": "stream",
     "text": [
      "50 4.089359283447266\n",
      "100 4.089357376098633\n",
      "150 4.089357376098633\n",
      "200 4.089357376098633\n",
      "250 4.089357376098633\n",
      "300 4.089357376098633\n",
      "350 4.089357376098633\n",
      "400 4.089357376098633\n",
      "450 4.089357376098633\n",
      "500 4.089357376098633\n",
      "550 4.089357376098633\n",
      "600 4.089357376098633\n",
      "650 4.089357376098633\n",
      "700 4.089357376098633\n",
      "750 4.089357376098633\n",
      "800 4.089357376098633\n",
      "850 4.089357376098633\n",
      "900 4.089357376098633\n",
      "950 4.089357376098633\n",
      "1000 4.089357376098633\n",
      "1050 4.089357376098633\n",
      "1100 4.089357376098633\n",
      "1150 4.089357376098633\n",
      "1200 4.089357376098633\n",
      "1250 4.089357376098633\n",
      "1300 4.089357376098633\n",
      "1350 4.089357376098633\n",
      "1400 4.089357376098633\n",
      "1450 4.089357376098633\n",
      "1500 4.089357376098633\n",
      "1550 4.089357376098633\n",
      "1600 4.089357376098633\n",
      "1650 4.089357376098633\n",
      "1700 4.089357376098633\n",
      "1750 4.089357376098633\n",
      "1800 4.089357376098633\n",
      "1850 4.089357376098633\n",
      "1900 4.089357376098633\n",
      "1950 4.089357376098633\n",
      "2000 4.089357376098633\n",
      "2050 4.089357376098633\n",
      "2100 4.089357376098633\n",
      "2150 4.089357376098633\n",
      "2200 4.089357376098633\n",
      "2250 4.089357376098633\n",
      "2300 4.089357376098633\n",
      "2350 4.089357376098633\n",
      "2400 4.089357376098633\n",
      "2450 4.089357376098633\n",
      "2500 4.089357376098633\n",
      "2550 4.089357376098633\n",
      "2600 4.089357376098633\n",
      "2650 4.089357376098633\n",
      "2700 4.089357376098633\n",
      "2750 4.089357376098633\n",
      "2800 4.089357376098633\n",
      "2850 4.089357376098633\n",
      "2900 4.089357376098633\n",
      "2950 4.089357376098633\n"
     ]
    }
   ],
   "source": [
    "#train the data set for 10 iterations\n",
    "for iter in range(1,3000):\n",
    "    #forward pass is done here\n",
    "    y_pred = X_train.mm(w1).mm(w2)\n",
    "    #loss calculation is done here MSE loss for linear regression\n",
    "    loss = (y_pred - Y_train).pow(2).sum()\n",
    "    \n",
    "    #for every 50 iteration result is taken\n",
    "    if iter % 50 == 0:\n",
    "        print(iter, loss.item())\n",
    "     \n",
    "    #backward loss to update the value of w and b\n",
    "    loss.backward()\n",
    "    \n",
    "    #test the data set \n",
    "    with torch.no_grad():\n",
    "        w1 -= lr * w1.grad\n",
    "        w2 -= lr * w2.grad\n",
    "        w1.grad.zero_()\n",
    "        w2.grad.zero_()"
   ]
  },
  {
   "cell_type": "code",
   "execution_count": 132,
   "metadata": {},
   "outputs": [
    {
     "name": "stdout",
     "output_type": "stream",
     "text": [
      "w1 tensor([[0.6484]], requires_grad=True)\n",
      "w2 tensor([[0.6117]], requires_grad=True)\n"
     ]
    }
   ],
   "source": [
    "print('w1',w1)\n",
    "print('w2', w2)"
   ]
  },
  {
   "cell_type": "code",
   "execution_count": 133,
   "metadata": {},
   "outputs": [
    {
     "data": {
      "text/plain": [
       "tensor([[ 4.7000],\n",
       "        [ 2.4000],\n",
       "        [ 7.5000],\n",
       "        [ 7.1000],\n",
       "        [ 4.3000],\n",
       "        [ 7.8160],\n",
       "        [ 8.9000],\n",
       "        [ 5.2000],\n",
       "        [ 8.5900],\n",
       "        [ 2.1000],\n",
       "        [ 8.0000],\n",
       "        [10.0000],\n",
       "        [ 4.5000],\n",
       "        [ 6.0000],\n",
       "        [ 4.0000]])"
      ]
     },
     "execution_count": 133,
     "metadata": {},
     "output_type": "execute_result"
    }
   ],
   "source": [
    "x_train_tensor = torch.from_numpy(x_train)\n",
    "x_train_tensor"
   ]
  },
  {
   "cell_type": "code",
   "execution_count": 134,
   "metadata": {},
   "outputs": [
    {
     "data": {
      "text/plain": [
       "tensor([[1.8642],\n",
       "        [0.9519],\n",
       "        [2.9748],\n",
       "        [2.8162],\n",
       "        [1.7056],\n",
       "        [3.1002],\n",
       "        [3.5301],\n",
       "        [2.0625],\n",
       "        [3.4072],\n",
       "        [0.8329],\n",
       "        [3.1731],\n",
       "        [3.9664],\n",
       "        [1.7849],\n",
       "        [2.3799],\n",
       "        [1.5866]], grad_fn=<MmBackward>)"
      ]
     },
     "execution_count": 134,
     "metadata": {},
     "output_type": "execute_result"
    }
   ],
   "source": [
    "predicted_in_tensor = x_train_tensor.mm(w1).mm(w2)\n",
    "predicted_in_tensor"
   ]
  },
  {
   "cell_type": "code",
   "execution_count": 135,
   "metadata": {},
   "outputs": [
    {
     "data": {
      "text/plain": [
       "tensor([[1.8642],\n",
       "        [0.9519],\n",
       "        [2.9748],\n",
       "        [2.8162],\n",
       "        [1.7056],\n",
       "        [3.1002],\n",
       "        [3.5301],\n",
       "        [2.0625],\n",
       "        [3.4072],\n",
       "        [0.8329],\n",
       "        [3.1731],\n",
       "        [3.9664],\n",
       "        [1.7849],\n",
       "        [2.3799],\n",
       "        [1.5866]], grad_fn=<MmBackward>)"
      ]
     },
     "execution_count": 135,
     "metadata": {},
     "output_type": "execute_result"
    }
   ],
   "source": [
    "predicted_in_tensor = x_train_tensor.mm(w1).mm(w2)\n",
    "predicted_in_tensor"
   ]
  },
  {
   "cell_type": "code",
   "execution_count": 136,
   "metadata": {},
   "outputs": [
    {
     "data": {
      "text/plain": [
       "array([[1.8642191 ],\n",
       "       [0.95194167],\n",
       "       [2.974818  ],\n",
       "       [2.8161607 ],\n",
       "       [1.7055622 ],\n",
       "       [3.1001568 ],\n",
       "       [3.5301168 ],\n",
       "       [2.0625403 ],\n",
       "       [3.4071581 ],\n",
       "       [0.8329489 ],\n",
       "       [3.1731389 ],\n",
       "       [3.9664237 ],\n",
       "       [1.7848907 ],\n",
       "       [2.3798542 ],\n",
       "       [1.5865694 ]], dtype=float32)"
      ]
     },
     "execution_count": 136,
     "metadata": {},
     "output_type": "execute_result"
    }
   ],
   "source": [
    "predicted = predicted_in_tensor.detach().numpy()\n",
    "predicted"
   ]
  },
  {
   "cell_type": "code",
   "execution_count": 137,
   "metadata": {},
   "outputs": [
    {
     "data": {
      "image/png": "[encoded data removed]",
      "text/plain": [
       "<Figure size 864x576 with 1 Axes>"
      ]
     },
     "metadata": {
      "needs_background": "light"
     },
     "output_type": "display_data"
    }
   ],
   "source": [
    "plt.figure(figsize = (12,8))\n",
    "plt.scatter(x_train,y_train,label = 'Original data', s=250, c='g')\n",
    "plt.plot(x_train, predicted, label ='Fitted line')\n",
    "plt.legend()\n",
    "plt.show()"
   ]
  },
  {
   "cell_type": "code",
   "execution_count": null,
   "metadata": {},
   "outputs": [],
   "source": []
  },
  {
   "cell_type": "code",
   "execution_count": null,
   "metadata": {},
   "outputs": [],
   "source": []
  },
  {
   "cell_type": "code",
   "execution_count": null,
   "metadata": {},
   "outputs": [],
   "source": []
  },
  {
   "cell_type": "code",
   "execution_count": null,
   "metadata": {},
   "outputs": [],
   "source": []
  }
 ],
 "metadata": {
  "kernelspec": {
   "display_name": "Python 3",
   "language": "python",
   "name": "python3"
  },
  "language_info": {
   "codemirror_mode": {
    "name": "ipython",
    "version": 3
   },
   "file_extension": ".py",
   "mimetype": "text/x-python",
   "name": "python",
   "nbconvert_exporter": "python",
   "pygments_lexer": "ipython3",
   "version": "3.7.6"
  }
 },
 "nbformat": 4,
 "nbformat_minor": 4
}
